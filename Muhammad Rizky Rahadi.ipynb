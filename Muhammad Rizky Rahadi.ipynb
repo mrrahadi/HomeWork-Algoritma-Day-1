{
 "cells": [
  {
   "cell_type": "markdown",
   "id": "dea2df88",
   "metadata": {},
   "source": [
    "_This file created by: Muhammad Rizky Rahadi_"
   ]
  },
  {
   "cell_type": "markdown",
   "id": "11db6f81",
   "metadata": {},
   "source": [
    "# Jupyter Notebook Practice"
   ]
  },
  {
   "cell_type": "markdown",
   "id": "1d9d1672",
   "metadata": {},
   "source": [
    "## Background\n",
    "\n",
    "This file was created to practice understanding in using jupyter notebook."
   ]
  },
  {
   "cell_type": "markdown",
   "id": "dd6c4404",
   "metadata": {},
   "source": [
    "## Objective\n",
    "\n",
    "1. **Markdown** cell\n",
    "2. **Code** cell\n",
    "3. Inser Notes\n",
    "4. Insert link"
   ]
  },
  {
   "cell_type": "markdown",
   "id": "2fefad13",
   "metadata": {},
   "source": [
    "### Markdown Cell\n",
    "*  You can document the computational process in a literate way, alternating descriptive text with code, using rich text,\n",
    "*  The Markdown language provides a simple way to perform this text markup, that is, to specify which parts of the text should be:\n",
    "    * _emphasized_ \n",
    "    * **bold**\n",
    "    * form lists, etc."
   ]
  },
  {
   "cell_type": "markdown",
   "id": "d662a1d9",
   "metadata": {},
   "source": [
    "### Code Cell\n",
    "\n",
    "* A code cell allows you to edit and write new code, with full syntax highlighting and tab completion,\n",
    "* We can use the print() function to print the text on the screen"
   ]
  },
  {
   "cell_type": "code",
   "execution_count": 3,
   "id": "dff367b9",
   "metadata": {},
   "outputs": [
    {
     "name": "stdout",
     "output_type": "stream",
     "text": [
      "Hello World\n"
     ]
    }
   ],
   "source": [
    "print (\"Hello World\")"
   ]
  },
  {
   "cell_type": "markdown",
   "id": "3fa488d2",
   "metadata": {},
   "source": [
    "      The more you practice the more proficient you will use it"
   ]
  },
  {
   "cell_type": "markdown",
   "id": "426e3b03",
   "metadata": {},
   "source": [
    "### Refrence\n",
    "\n",
    "* [Markdown Cheatsheet](https://www.markdownguide.org/cheat-sheet/)"
   ]
  }
 ],
 "metadata": {
  "kernelspec": {
   "display_name": "rhea_da",
   "language": "python",
   "name": "rhea_da"
  },
  "language_info": {
   "codemirror_mode": {
    "name": "ipython",
    "version": 3
   },
   "file_extension": ".py",
   "mimetype": "text/x-python",
   "name": "python",
   "nbconvert_exporter": "python",
   "pygments_lexer": "ipython3",
   "version": "3.9.7"
  }
 },
 "nbformat": 4,
 "nbformat_minor": 5
}
